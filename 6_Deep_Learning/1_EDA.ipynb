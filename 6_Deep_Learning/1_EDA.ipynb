{
 "cells": [
  {
   "cell_type": "code",
   "execution_count": 1,
   "id": "ea1bd0d1-a9ac-4bba-8a09-d52f16343e79",
   "metadata": {},
   "outputs": [],
   "source": [
    "import pandas as pd\n",
    "import numpy as np\n",
    "import os\n",
    "import matplotlib.pyplot as plt\n",
    "from PIL import Image"
   ]
  },
  {
   "cell_type": "code",
   "execution_count": 8,
   "id": "85e29356-8e96-4ee1-9763-e472d1729303",
   "metadata": {},
   "outputs": [],
   "source": [
    "root = 'data/train/'\n",
    "root_valid = 'data/valid'\n",
    "root_test = 'data/test'"
   ]
  },
  {
   "cell_type": "markdown",
   "id": "8d5d2364-c4dc-4ebe-a1b4-7f54f3433669",
   "metadata": {},
   "source": [
    "# Exporatory Data Analysis\n",
    "There are 400 species in the data set. How many total images and what are some examples?"
   ]
  },
  {
   "cell_type": "code",
   "execution_count": 6,
   "id": "21cda7ef-7bc3-424e-b830-5b3ce81d4a15",
   "metadata": {},
   "outputs": [],
   "source": [
    "# How many total images are there?\n",
    "\n",
    "def image_count(num_species, root): # Counts the number of training images for a set number of species\n",
    "    birds = os.listdir(root)\n",
    "    birds = [bird for bird in birds if bird[0]!='.']\n",
    "    num_images = 0\n",
    "    for i, bird in enumerate(birds):\n",
    "        if i == num_species: break\n",
    "        num_images += len(os.listdir(root + f'/{bird}'))\n",
    "    return num_images"
   ]
  },
  {
   "cell_type": "code",
   "execution_count": 10,
   "id": "126b6327-f2e9-4930-8d74-78e4157645ef",
   "metadata": {},
   "outputs": [
    {
     "name": "stdout",
     "output_type": "stream",
     "text": [
      "There are 400 species and 58388 total training images\n",
      "There are 400 species and 2000 total validation images\n",
      "There are 400 species and 2000 total testing images\n"
     ]
    }
   ],
   "source": [
    "num_species = 400\n",
    "num_images = image_count(num_species, root)\n",
    "print(f'There are {num_species} species and {num_images} total training images')\n",
    "num_images = image_count(num_species, root_valid)\n",
    "print(f'There are {num_species} species and {num_images} total validation images')\n",
    "num_images = image_count(num_species, root_test)\n",
    "print(f'There are {num_species} species and {num_images} total testing images')"
   ]
  },
  {
   "cell_type": "markdown",
   "id": "438a312d-29a0-47f4-8fc3-3b254ca7796b",
   "metadata": {},
   "source": [
    "Validation and testing have 20 images per species."
   ]
  },
  {
   "cell_type": "markdown",
   "id": "d020558a-d7c4-49c8-8995-445cb8375f29",
   "metadata": {},
   "source": [
    "One example image (jpg):\n",
    "\n",
    "![sample image](data/001.jpg)"
   ]
  },
  {
   "cell_type": "code",
   "execution_count": 11,
   "id": "93468765-75f3-4945-87ff-6ca23e0f6ce9",
   "metadata": {},
   "outputs": [
    {
     "data": {
      "text/plain": [
       "['CREAM COLORED WOODPECKER',\n",
       " 'RUFUOS MOTMOT',\n",
       " 'WHITE TAILED TROPIC',\n",
       " 'KOOKABURRA']"
      ]
     },
     "execution_count": 11,
     "metadata": {},
     "output_type": "execute_result"
    }
   ],
   "source": [
    "species = os.listdir(root)\n",
    "species[:4]"
   ]
  },
  {
   "cell_type": "code",
   "execution_count": 22,
   "id": "7d7d5b2d-3f05-4f8f-9d0a-9516b0d0db18",
   "metadata": {},
   "outputs": [],
   "source": [
    "# Remove one hidden file\n",
    "if os.path.exists(root + \".DS_Store\"):\n",
    "    os.remove(root + \".DS_Store\")\n",
    "else:\n",
    "    print(\"The file does not exist\") "
   ]
  },
  {
   "cell_type": "code",
   "execution_count": 12,
   "id": "b86ecb50-5a90-4cd5-ab27-24a88448b1c4",
   "metadata": {},
   "outputs": [
    {
     "name": "stdout",
     "output_type": "stream",
     "text": [
      "CREAM COLORED WOODPECKER: 139\n",
      "RUFUOS MOTMOT: 189\n",
      "WHITE TAILED TROPIC: 175\n",
      "KOOKABURRA: 143\n",
      "TREE SWALLOW: 181\n"
     ]
    }
   ],
   "source": [
    "# Assemble dict with counts of each species\n",
    "counts = []\n",
    "for bird in species:\n",
    "    try:\n",
    "        counts += [len(os.listdir(root+bird))]\n",
    "    except NotADirectoryError: \n",
    "        continue\n",
    "    except FileNotFoundError:\n",
    "        continue\n",
    "counts = {v:k for v,k in zip(species, counts)}\n",
    "[print(f'{x}: {counts[x]}') for x in species[:5]];"
   ]
  },
  {
   "cell_type": "code",
   "execution_count": 22,
   "id": "19165c6a-fe3f-48e5-bfd8-965e82343dfe",
   "metadata": {},
   "outputs": [
    {
     "data": {
      "image/png": "[encoded data removed]",
      "text/plain": [
       "<Figure size 720x504 with 1 Axes>"
      ]
     },
     "metadata": {
      "needs_background": "light"
     },
     "output_type": "display_data"
    }
   ],
   "source": [
    "pd.Series(counts).sort_values(ascending=True)[-10:].plot(kind='barh', figsize=(10,7));\n",
    "plt.xlabel('Number of images', fontsize=13);\n",
    "plt.title('Bird species with most images', fontsize=16);"
   ]
  },
  {
   "cell_type": "markdown",
   "id": "5aee941b-74ea-483e-b7fc-b85cfaa96e31",
   "metadata": {},
   "source": [
    "There are a minimum of 120 images per species with a max of 249."
   ]
  }
 ],
 "metadata": {
  "kernelspec": {
   "display_name": "Python 3 (ipykernel)",
   "language": "python",
   "name": "python3"
  },
  "language_info": {
   "codemirror_mode": {
    "name": "ipython",
    "version": 3
   },
   "file_extension": ".py",
   "mimetype": "text/x-python",
   "name": "python",
   "nbconvert_exporter": "python",
   "pygments_lexer": "ipython3",
   "version": "3.8.8"
  }
 },
 "nbformat": 4,
 "nbformat_minor": 5
}
