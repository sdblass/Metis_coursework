{
 "cells": [
  {
   "cell_type": "code",
   "execution_count": 1,
   "id": "7fb318d5",
   "metadata": {},
   "outputs": [],
   "source": [
    "import requests, re\n",
    "from bs4 import BeautifulSoup as bs\n",
    "import pandas as pd\n",
    "from selenium import webdriver\n",
    "from selenium.webdriver.chrome.options import Options\n",
    "import time, random, pickle\n",
    "import Levenshtein as lev\n",
    "from urllib.request import urlopen\n",
    "import urllib.parse, os\n",
    "import numpy as np\n",
    "from IPython.display import display"
   ]
  },
  {
   "cell_type": "code",
   "execution_count": 94,
   "id": "c1414bd4",
   "metadata": {},
   "outputs": [
    {
     "name": "stderr",
     "output_type": "stream",
     "text": [
      "/opt/anaconda3/envs/metis/lib/python3.9/site-packages/numpy/lib/arraysetops.py:583: FutureWarning: elementwise comparison failed; returning scalar instead, but in the future will perform elementwise comparison\n",
      "  mask |= (ar1 == a)\n"
     ]
    }
   ],
   "source": [
    "CT_EV_raw = pd.read_csv('Figures/ct_ev_registrations_public.csv', index_col=0)\n",
    "NJ_EV_raw = pd.read_csv('Figures/nj_ev_registrations_public.csv', index_col=0)\n",
    "NY_EV_raw = pd.read_csv('Figures/ny_ev_registrations_public.csv', index_col=0)\n",
    "MD_EV_raw = pd.read_csv('Figures/md_ev_registrations_public.csv', index_col=0)"
   ]
  },
  {
   "cell_type": "code",
   "execution_count": 10,
   "id": "5a78b094",
   "metadata": {},
   "outputs": [],
   "source": [
    "alt_fuel_stations_ny = pd.read_csv('Figures/alt_fuel_stations_ny.csv', index_col=0)\n",
    "alt_fuel_stations_nj = pd.read_csv('Figures/alt_fuel_stations_nj.csv', index_col=0)\n",
    "alt_fuel_stations_ct = pd.read_csv('Figures/alt_fuel_stations_ct.csv', index_col=0)\n",
    "alt_fuel_stations_md = pd.read_csv('Figures/alt_fuel_stations_md.csv', index_col=0)"
   ]
  },
  {
   "cell_type": "code",
   "execution_count": 25,
   "id": "281ecc2e",
   "metadata": {},
   "outputs": [],
   "source": [
    "ny_stations_count = alt_fuel_stations_ny.ZIP.value_counts()\n",
    "nj_stations_count = alt_fuel_stations_nj.ZIP.value_counts()\n",
    "ct_stations_count = alt_fuel_stations_ct.ZIP.value_counts()\n",
    "md_stations_count = alt_fuel_stations_md.ZIP.value_counts()"
   ]
  },
  {
   "cell_type": "code",
   "execution_count": null,
   "id": "89c5544e",
   "metadata": {},
   "outputs": [],
   "source": []
  },
  {
   "cell_type": "code",
   "execution_count": 197,
   "id": "3d0fec2c",
   "metadata": {},
   "outputs": [
    {
     "data": {
      "text/plain": [
       "21201    47\n",
       "21044    44\n",
       "20850    40\n",
       "21202    34\n",
       "20852    30\n",
       "         ..\n",
       "21903     1\n",
       "21769     1\n",
       "21766     1\n",
       "21619     1\n",
       "21778     1\n",
       "Name: ZIP, Length: 233, dtype: int64"
      ]
     },
     "execution_count": 197,
     "metadata": {},
     "output_type": "execute_result"
    }
   ],
   "source": [
    "md_stations_count"
   ]
  },
  {
   "cell_type": "code",
   "execution_count": 152,
   "id": "d334e24e",
   "metadata": {},
   "outputs": [],
   "source": [
    "stations_count = ny_stations_count.append(nj_stations_count).append(ct_stations_count).append(md_stations_count)\n",
    "stations_count.name = 'num_stations'"
   ]
  },
  {
   "cell_type": "code",
   "execution_count": 196,
   "id": "a280933a",
   "metadata": {},
   "outputs": [],
   "source": [
    "stations_count.index = stations_count.index.astype('str').map(fill_zip)"
   ]
  },
  {
   "cell_type": "markdown",
   "id": "95ca0449",
   "metadata": {},
   "source": [
    "### Process MD electric vehicle data.\n",
    "Below data show all vehicles registered that year. That is, an owner has bought a vehicle and registered it with the state. Not that it's a tally of all vehicles \"on the road\" in the state."
   ]
  },
  {
   "cell_type": "code",
   "execution_count": 48,
   "id": "0cf6434a",
   "metadata": {},
   "outputs": [
    {
     "data": {
      "text/plain": [
       "Zip_Code\n",
       "20601     775\n",
       "20602     908\n",
       "20603    1631\n",
       "20606      12\n",
       "20607    1055\n",
       "         ... \n",
       "21918      36\n",
       "21919     100\n",
       "21921    1006\n",
       "21930       4\n",
       "23703       1\n",
       "Name: Count, Length: 432, dtype: int64"
      ]
     },
     "execution_count": 48,
     "metadata": {},
     "output_type": "execute_result"
    }
   ],
   "source": [
    "MD_EV_raw.index = pd.to_datetime(MD_EV_raw.index)\n",
    "MD_EV_raw['year'] = MD_EV_raw.index.year\n",
    "MD_EV_count = MD_EV_raw[(MD_EV_raw.year == 2021) & (MD_EV_raw.Zip_Code.str[0] == '2')][['Zip_Code', 'year', 'Count']]\n",
    "MD_EV_count = MD_EV_count.groupby('Zip_Code').Count.sum()\n",
    "MD_EV_count"
   ]
  },
  {
   "cell_type": "code",
   "execution_count": 195,
   "id": "8d97b961",
   "metadata": {},
   "outputs": [],
   "source": [
    "def fill_zip(x):\n",
    "    x = str(x)\n",
    "    if len(x) == 4:\n",
    "        x = '0' + x\n",
    "    return x"
   ]
  },
  {
   "cell_type": "code",
   "execution_count": 78,
   "id": "d4143c05",
   "metadata": {},
   "outputs": [],
   "source": [
    "NJ_EV_raw = pd.read_csv('Figures/nj_ev_registrations_public.csv', index_col=0)\n",
    "NJ_EV_raw['Registration Valid Date'] = pd.to_datetime(NJ_EV_raw['Registration Valid Date'])\n",
    "NJ_EV_raw['reg_year'] = NJ_EV_raw['Registration Valid Date'].dt.year\n",
    "NJ_EV_raw['ZIP Code'] = NJ_EV_raw['ZIP Code'].astype('str')\n",
    "NJ_EV_raw['ZIP Code'] = NJ_EV_raw['ZIP Code'].apply(lambda x: fill_zip(x))\n",
    "NJ_EV_count = NJ_EV_raw[NJ_EV_raw.reg_year == 2020]['ZIP Code'].value_counts()\n",
    "NJ_EV_count = NJ_EV_count[(NJ_EV_count.index.str[1] == '7' )| (NJ_EV_count.index.str[1] == '8')]"
   ]
  },
  {
   "cell_type": "code",
   "execution_count": 79,
   "id": "4211bd8e",
   "metadata": {},
   "outputs": [
    {
     "data": {
      "text/plain": [
       "08540    1810\n",
       "07677    1165\n",
       "08831    1098\n",
       "08002     994\n",
       "08820     928\n",
       "         ... \n",
       "07308       1\n",
       "07851       1\n",
       "07061       1\n",
       "07428       1\n",
       "08321       1\n",
       "Name: ZIP Code, Length: 616, dtype: int64"
      ]
     },
     "execution_count": 79,
     "metadata": {},
     "output_type": "execute_result"
    }
   ],
   "source": [
    "NJ_EV_count"
   ]
  },
  {
   "cell_type": "code",
   "execution_count": 86,
   "id": "89024be6",
   "metadata": {},
   "outputs": [],
   "source": [
    "NY_EV_raw['Registration Expiration Date'] = pd.to_datetime(NY_EV_raw['Registration Expiration Date'])\n",
    "NY_EV_count = NY_EV_raw[NY_EV_raw['Registration Expiration Date'].dt.year == 2020].index.value_counts()\n",
    "NY_EV_count = NY_EV_count[NY_EV_count.index.astype('str').str[0] == '1']"
   ]
  },
  {
   "cell_type": "code",
   "execution_count": 87,
   "id": "005799e0",
   "metadata": {},
   "outputs": [
    {
     "data": {
      "text/plain": [
       "10583    6025\n",
       "11746    5798\n",
       "14850    4510\n",
       "11791    4092\n",
       "11743    3991\n",
       "         ... \n",
       "15241       1\n",
       "15001       1\n",
       "19720       1\n",
       "18104       1\n",
       "18801       1\n",
       "Name: ZIP Code, Length: 1457, dtype: int64"
      ]
     },
     "execution_count": 87,
     "metadata": {},
     "output_type": "execute_result"
    }
   ],
   "source": [
    "NY_EV_count"
   ]
  },
  {
   "cell_type": "code",
   "execution_count": 104,
   "id": "207dfd22",
   "metadata": {},
   "outputs": [
    {
     "data": {
      "text/plain": [
       "06880    266\n",
       "06830    226\n",
       "06840    152\n",
       "06820    152\n",
       "06831    150\n",
       "        ... \n",
       "06079      1\n",
       "06021      1\n",
       "06724      1\n",
       "02184      1\n",
       "06490      1\n",
       "Name: ZIP Code, Length: 272, dtype: int64"
      ]
     },
     "execution_count": 104,
     "metadata": {},
     "output_type": "execute_result"
    }
   ],
   "source": [
    "CT_EV_raw = pd.read_csv('Figures/ct_ev_registrations_public.csv', index_col=0)\n",
    "CT_EV_raw['Registration Valid Date'] = pd.to_datetime(CT_EV_raw['Registration Valid Date'])\n",
    "CT_EV_raw['ZIP Code'] = CT_EV_raw['ZIP Code'].astype('str').apply(lambda x: fill_zip(x))\n",
    "CT_EV_count = CT_EV_raw[CT_EV_raw['Registration Valid Date'].dt.year == 2018]['ZIP Code'].value_counts()\n",
    "CT_EV_count"
   ]
  },
  {
   "cell_type": "code",
   "execution_count": 109,
   "id": "6821b717",
   "metadata": {},
   "outputs": [
    {
     "data": {
      "text/plain": [
       "06880     266\n",
       "06830     226\n",
       "06840     152\n",
       "06820     152\n",
       "06831     150\n",
       "         ... \n",
       "21918      36\n",
       "21919     100\n",
       "21921    1006\n",
       "21930       4\n",
       "23703       1\n",
       "Length: 2777, dtype: int64"
      ]
     },
     "execution_count": 109,
     "metadata": {},
     "output_type": "execute_result"
    }
   ],
   "source": [
    "EV_count = CT_EV_count.append(NJ_EV_count).append(NY_EV_count).append(MD_EV_count)\n",
    "EV_count"
   ]
  },
  {
   "cell_type": "code",
   "execution_count": 112,
   "id": "2e93bbbd",
   "metadata": {},
   "outputs": [],
   "source": [
    "EV_count_df = pd.DataFrame(EV_count, columns = ['reg_vehicles'])\n",
    "EV_count_df.index.name = 'zipcode'"
   ]
  },
  {
   "cell_type": "code",
   "execution_count": 146,
   "id": "053bf120",
   "metadata": {},
   "outputs": [
    {
     "data": {
      "text/html": [
       "<div>\n",
       "<style scoped>\n",
       "    .dataframe tbody tr th:only-of-type {\n",
       "        vertical-align: middle;\n",
       "    }\n",
       "\n",
       "    .dataframe tbody tr th {\n",
       "        vertical-align: top;\n",
       "    }\n",
       "\n",
       "    .dataframe thead th {\n",
       "        text-align: right;\n",
       "    }\n",
       "</style>\n",
       "<table border=\"1\" class=\"dataframe\">\n",
       "  <thead>\n",
       "    <tr style=\"text-align: right;\">\n",
       "      <th></th>\n",
       "      <th>reg_vehicles</th>\n",
       "    </tr>\n",
       "    <tr>\n",
       "      <th>zipcode</th>\n",
       "      <th></th>\n",
       "    </tr>\n",
       "  </thead>\n",
       "  <tbody>\n",
       "    <tr>\n",
       "      <th>06880</th>\n",
       "      <td>266</td>\n",
       "    </tr>\n",
       "    <tr>\n",
       "      <th>06830</th>\n",
       "      <td>226</td>\n",
       "    </tr>\n",
       "    <tr>\n",
       "      <th>06840</th>\n",
       "      <td>152</td>\n",
       "    </tr>\n",
       "    <tr>\n",
       "      <th>06820</th>\n",
       "      <td>152</td>\n",
       "    </tr>\n",
       "    <tr>\n",
       "      <th>06831</th>\n",
       "      <td>150</td>\n",
       "    </tr>\n",
       "    <tr>\n",
       "      <th>...</th>\n",
       "      <td>...</td>\n",
       "    </tr>\n",
       "    <tr>\n",
       "      <th>21918</th>\n",
       "      <td>36</td>\n",
       "    </tr>\n",
       "    <tr>\n",
       "      <th>21919</th>\n",
       "      <td>100</td>\n",
       "    </tr>\n",
       "    <tr>\n",
       "      <th>21921</th>\n",
       "      <td>1006</td>\n",
       "    </tr>\n",
       "    <tr>\n",
       "      <th>21930</th>\n",
       "      <td>4</td>\n",
       "    </tr>\n",
       "    <tr>\n",
       "      <th>23703</th>\n",
       "      <td>1</td>\n",
       "    </tr>\n",
       "  </tbody>\n",
       "</table>\n",
       "<p>2777 rows × 1 columns</p>\n",
       "</div>"
      ],
      "text/plain": [
       "         reg_vehicles\n",
       "zipcode              \n",
       "06880             266\n",
       "06830             226\n",
       "06840             152\n",
       "06820             152\n",
       "06831             150\n",
       "...               ...\n",
       "21918              36\n",
       "21919             100\n",
       "21921            1006\n",
       "21930               4\n",
       "23703               1\n",
       "\n",
       "[2777 rows x 1 columns]"
      ]
     },
     "execution_count": 146,
     "metadata": {},
     "output_type": "execute_result"
    }
   ],
   "source": [
    "EV_count_df"
   ]
  },
  {
   "cell_type": "code",
   "execution_count": 219,
   "id": "a551c693",
   "metadata": {},
   "outputs": [],
   "source": [
    "EV_count_df.index = EV_count_df.index.map(fill_zip)"
   ]
  },
  {
   "cell_type": "code",
   "execution_count": 227,
   "id": "218de732",
   "metadata": {},
   "outputs": [],
   "source": [
    "merged_EV_stations_df = EV_count_df.merge(stations_count, left_index=True, right_index=True, how='left')\n",
    "# merged_EV_stations_df.dropna(inplace=True)"
   ]
  },
  {
   "cell_type": "code",
   "execution_count": 228,
   "id": "346a2607",
   "metadata": {},
   "outputs": [],
   "source": [
    "merged_EV_stations_df.index.name='zipcode'"
   ]
  },
  {
   "cell_type": "code",
   "execution_count": 230,
   "id": "5fed9e20",
   "metadata": {},
   "outputs": [],
   "source": [
    "merged_EV_stations_df.fillna(float(0), inplace=True)"
   ]
  },
  {
   "cell_type": "code",
   "execution_count": 232,
   "id": "2321f13d",
   "metadata": {},
   "outputs": [
    {
     "data": {
      "text/html": [
       "<div>\n",
       "<style scoped>\n",
       "    .dataframe tbody tr th:only-of-type {\n",
       "        vertical-align: middle;\n",
       "    }\n",
       "\n",
       "    .dataframe tbody tr th {\n",
       "        vertical-align: top;\n",
       "    }\n",
       "\n",
       "    .dataframe thead th {\n",
       "        text-align: right;\n",
       "    }\n",
       "</style>\n",
       "<table border=\"1\" class=\"dataframe\">\n",
       "  <thead>\n",
       "    <tr style=\"text-align: right;\">\n",
       "      <th></th>\n",
       "      <th>reg_vehicles</th>\n",
       "      <th>num_stations</th>\n",
       "    </tr>\n",
       "    <tr>\n",
       "      <th>zipcode</th>\n",
       "      <th></th>\n",
       "      <th></th>\n",
       "    </tr>\n",
       "  </thead>\n",
       "  <tbody>\n",
       "    <tr>\n",
       "      <th>12866</th>\n",
       "      <td>2248</td>\n",
       "      <td>72.0</td>\n",
       "    </tr>\n",
       "    <tr>\n",
       "      <th>21201</th>\n",
       "      <td>1113</td>\n",
       "      <td>47.0</td>\n",
       "    </tr>\n",
       "    <tr>\n",
       "      <th>21044</th>\n",
       "      <td>5898</td>\n",
       "      <td>44.0</td>\n",
       "    </tr>\n",
       "    <tr>\n",
       "      <th>12205</th>\n",
       "      <td>826</td>\n",
       "      <td>40.0</td>\n",
       "    </tr>\n",
       "    <tr>\n",
       "      <th>20850</th>\n",
       "      <td>10523</td>\n",
       "      <td>40.0</td>\n",
       "    </tr>\n",
       "    <tr>\n",
       "      <th>...</th>\n",
       "      <td>...</td>\n",
       "      <td>...</td>\n",
       "    </tr>\n",
       "    <tr>\n",
       "      <th>11365</th>\n",
       "      <td>905</td>\n",
       "      <td>0.0</td>\n",
       "    </tr>\n",
       "    <tr>\n",
       "      <th>11363</th>\n",
       "      <td>353</td>\n",
       "      <td>0.0</td>\n",
       "    </tr>\n",
       "    <tr>\n",
       "      <th>11362</th>\n",
       "      <td>855</td>\n",
       "      <td>0.0</td>\n",
       "    </tr>\n",
       "    <tr>\n",
       "      <th>11358</th>\n",
       "      <td>806</td>\n",
       "      <td>0.0</td>\n",
       "    </tr>\n",
       "    <tr>\n",
       "      <th>23703</th>\n",
       "      <td>1</td>\n",
       "      <td>0.0</td>\n",
       "    </tr>\n",
       "  </tbody>\n",
       "</table>\n",
       "<p>2777 rows × 2 columns</p>\n",
       "</div>"
      ],
      "text/plain": [
       "         reg_vehicles  num_stations\n",
       "zipcode                            \n",
       "12866            2248          72.0\n",
       "21201            1113          47.0\n",
       "21044            5898          44.0\n",
       "12205             826          40.0\n",
       "20850           10523          40.0\n",
       "...               ...           ...\n",
       "11365             905           0.0\n",
       "11363             353           0.0\n",
       "11362             855           0.0\n",
       "11358             806           0.0\n",
       "23703               1           0.0\n",
       "\n",
       "[2777 rows x 2 columns]"
      ]
     },
     "execution_count": 232,
     "metadata": {},
     "output_type": "execute_result"
    }
   ],
   "source": [
    "merged_EV_stations_df.sort_values('num_stations', ascending=False)"
   ]
  },
  {
   "cell_type": "code",
   "execution_count": 233,
   "id": "e593d6b2",
   "metadata": {},
   "outputs": [],
   "source": [
    "merged_EV_stations_df.to_pickle('Figures/merged_EV_stations_df')"
   ]
  },
  {
   "cell_type": "code",
   "execution_count": 235,
   "id": "bd29058e",
   "metadata": {},
   "outputs": [
    {
     "data": {
      "text/plain": [
       "195"
      ]
     },
     "execution_count": 235,
     "metadata": {},
     "output_type": "execute_result"
    }
   ],
   "source": [
    "NY_EV_count.loc[11213]"
   ]
  },
  {
   "cell_type": "code",
   "execution_count": null,
   "id": "c3a5cd00",
   "metadata": {},
   "outputs": [],
   "source": []
  }
 ],
 "metadata": {
  "kernelspec": {
   "display_name": "Python [conda env:metis] *",
   "language": "python",
   "name": "conda-env-metis-py"
  },
  "language_info": {
   "codemirror_mode": {
    "name": "ipython",
    "version": 3
   },
   "file_extension": ".py",
   "mimetype": "text/x-python",
   "name": "python",
   "nbconvert_exporter": "python",
   "pygments_lexer": "ipython3",
   "version": "3.9.7"
  }
 },
 "nbformat": 4,
 "nbformat_minor": 5
}
