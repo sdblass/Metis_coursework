{
 "cells": [
  {
   "cell_type": "code",
   "execution_count": 147,
   "id": "1cbfb4d5",
   "metadata": {},
   "outputs": [],
   "source": [
    "import requests, re\n",
    "from bs4 import BeautifulSoup as bs\n",
    "import pandas as pd\n",
    "from selenium import webdriver\n",
    "from selenium.webdriver.chrome.options import Options\n",
    "import time, random\n",
    "from urllib.request import urlopen\n",
    "import urllib.parse\n",
    "import numpy as np\n",
    "from IPython.display import display\n",
    "import datetime\n",
    "import Levenshtein as lev\n",
    "from itertools import product\n",
    "import matplotlib.pyplot as plt\n",
    "import seaborn as sns\n",
    "from sklearn.linear_model import LinearRegression, Lasso, LassoCV, Ridge, RidgeCV\n",
    "from sklearn.metrics import r2_score\n",
    "import statsmodels.api as sm"
   ]
  },
  {
   "cell_type": "markdown",
   "id": "334842f7",
   "metadata": {},
   "source": [
    "The goal of this project is to predict a book's demand on Overdrive (an ebook hosting service for public libraries) based on the book's publication date, popularity, author reputation, and numerous other factors."
   ]
  },
  {
   "cell_type": "markdown",
   "id": "086cfdc3",
   "metadata": {},
   "source": [
    "Import data set for books for which data exist for number of people who requested the book or have it checked out."
   ]
  },
  {
   "cell_type": "code",
   "execution_count": 50,
   "id": "fb8f65c3",
   "metadata": {},
   "outputs": [],
   "source": [
    "# df = pd.read_csv('Figures/merged_df_lev_cleaned.csv', index_col = 0)\n",
    "df = pd.read_csv('Figures/test.csv', index_col = 0)\n",
    "df = df[df['Library copies'] != 'info unavailable']"
   ]
  },
  {
   "cell_type": "code",
   "execution_count": 51,
   "id": "e7600796",
   "metadata": {},
   "outputs": [],
   "source": [
    "df.loc[df['Library copies'] == 'Always available', 'Library copies'] = float('inf')"
   ]
  },
  {
   "cell_type": "code",
   "execution_count": 52,
   "id": "36fc6b1d",
   "metadata": {},
   "outputs": [],
   "source": [
    "df = df[(df['Library copies'] != float('inf')) & (df['title'] != '-1')]"
   ]
  },
  {
   "cell_type": "markdown",
   "id": "6ddda0bd",
   "metadata": {},
   "source": [
    "## Cleaning\n",
    "Make sure the book on Overdrive and the one on Goodreads match by measuring the Levenshtein ratio between the books' authors."
   ]
  },
  {
   "cell_type": "code",
   "execution_count": 53,
   "id": "0709e944",
   "metadata": {},
   "outputs": [],
   "source": [
    "df = df[(df.LevScore_updated > 0.43) & (df.author_ratings != -1.0) ]"
   ]
  },
  {
   "cell_type": "markdown",
   "id": "65bc9b16",
   "metadata": {},
   "source": [
    "Clean up data to convert it to ints and floats from the raw form it came in from the websites."
   ]
  },
  {
   "cell_type": "code",
   "execution_count": 54,
   "id": "889e70c5",
   "metadata": {
    "scrolled": true
   },
   "outputs": [],
   "source": [
    "df['People waiting per copy'] = df['People waiting per copy'].apply(lambda x: x.replace('<', '')).astype('int')"
   ]
  },
  {
   "cell_type": "code",
   "execution_count": 55,
   "id": "a8c45c6d",
   "metadata": {},
   "outputs": [],
   "source": [
    "df[['Library copies', 'People waiting in total']] = df[['Library copies', 'People waiting in total']].astype('int').copy()"
   ]
  },
  {
   "cell_type": "code",
   "execution_count": 56,
   "id": "73a5eba6",
   "metadata": {},
   "outputs": [],
   "source": [
    "# df['demand'] = np.nan\n",
    "df['demand'] = df.apply(lambda x: x['Library copies'] + x['People waiting in total'], axis=1)"
   ]
  },
  {
   "cell_type": "markdown",
   "id": "bacf6751",
   "metadata": {},
   "source": [
    "Normalize cumulative columns by year to correct for older authors having more reviews than younger authors despite younger authors potentially being more popular. Presumably, older authors will have had more time to accumulate reviews than younger authors."
   ]
  },
  {
   "cell_type": "code",
   "execution_count": 88,
   "id": "973ac61c",
   "metadata": {},
   "outputs": [],
   "source": [
    "norm_columns = ['number of ratings', 'author_ratings', 'author_num_reviews', 'author_distinct_works']"
   ]
  },
  {
   "cell_type": "code",
   "execution_count": 89,
   "id": "46352be9",
   "metadata": {},
   "outputs": [],
   "source": [
    "for col in norm_columns:\n",
    "    new_col = col + '_norm'\n",
    "    df[new_col] = df.apply(lambda x: x[col] / (2022 - x.year_published), axis=1)"
   ]
  },
  {
   "cell_type": "markdown",
   "id": "3376957e",
   "metadata": {},
   "source": [
    "Multiply number of stars by number of reviews to get a sense of how popular a particular title is. High stars and low number of reviews would suggest a popular book in a niche category."
   ]
  },
  {
   "cell_type": "code",
   "execution_count": 119,
   "id": "a511742f",
   "metadata": {},
   "outputs": [],
   "source": [
    "df['stars*num_ratings'] = df.apply(lambda x: x.stars * x['number of ratings'], axis=1)"
   ]
  },
  {
   "cell_type": "code",
   "execution_count": 132,
   "id": "48fe46f1",
   "metadata": {},
   "outputs": [],
   "source": [
    "df['stars*num_ratings_norm'] = df.apply(lambda x: x['stars*num_ratings'] / (2022-x['year_published']), axis=1)"
   ]
  },
  {
   "cell_type": "code",
   "execution_count": 131,
   "id": "1261f2c2",
   "metadata": {},
   "outputs": [],
   "source": [
    "df.to_csv('Figures/test.csv')"
   ]
  },
  {
   "cell_type": "code",
   "execution_count": 58,
   "id": "dc34a7bf",
   "metadata": {},
   "outputs": [],
   "source": [
    "%matplotlib inline"
   ]
  },
  {
   "cell_type": "markdown",
   "id": "0101eb69",
   "metadata": {},
   "source": [
    "Some basic visualizations to see if any patterns stand out.\n",
    "\n",
    "## Demand is defined as number of people who have checked out a copy plus number of people on the waiting list if applicable.\n",
    "\n",
    "Normalized means the data is divided by the number of years the book has been in print to correct for longevity."
   ]
  },
  {
   "cell_type": "code",
   "execution_count": 171,
   "id": "33f9f4b7",
   "metadata": {},
   "outputs": [
    {
     "data": {
      "text/plain": [
       "Text(0, 0.5, 'Demand')"
      ]
     },
     "execution_count": 171,
     "metadata": {},
     "output_type": "execute_result"
    },
    {
     "data": {
      "image/png": "[encoded data removed]",
      "text/plain": [
       "<Figure size 432x288 with 1 Axes>"
      ]
     },
     "metadata": {
      "needs_background": "light"
     },
     "output_type": "display_data"
    }
   ],
   "source": [
    "plt.scatter(df['stars*num_ratings_norm'], df['demand'])\n",
    "ax = plt.gca()\n",
    "ax.set_xlim(0,0.5E7)\n",
    "plt.xlabel('Book\\'s popularity (# stars * number of ratings) (norm)')\n",
    "plt.ylabel('Demand')\n",
    "# ax.set_ylim(0, 200)"
   ]
  },
  {
   "cell_type": "markdown",
   "id": "4df2370c",
   "metadata": {},
   "source": [
    "There does not appear to be any meaningful relationship. What about with books published in the last 20 years?"
   ]
  },
  {
   "cell_type": "code",
   "execution_count": 117,
   "id": "a1eefee8",
   "metadata": {},
   "outputs": [],
   "source": [
    "df_recent = df[df.year_published > 2000]"
   ]
  },
  {
   "cell_type": "code",
   "execution_count": 172,
   "id": "c245c6e8",
   "metadata": {},
   "outputs": [
    {
     "data": {
      "text/plain": [
       "Text(0, 0.5, 'Demand')"
      ]
     },
     "execution_count": 172,
     "metadata": {},
     "output_type": "execute_result"
    },
    {
     "data": {
      "image/png": "[encoded data removed]",
      "text/plain": [
       "<Figure size 432x288 with 1 Axes>"
      ]
     },
     "metadata": {
      "needs_background": "light"
     },
     "output_type": "display_data"
    }
   ],
   "source": [
    "plt.scatter(df_recent['author_num_reviews_norm'], df_recent['demand'])\n",
    "ax = plt.gca()\n",
    "ax.set_xlim(0,1E5)\n",
    "plt.xlabel('Author\\'s popularity (normalized # reviews of author)')\n",
    "plt.ylabel('Demand')\n",
    "# ax.set_ylim(0, 200)"
   ]
  },
  {
   "cell_type": "markdown",
   "id": "0a38dc17",
   "metadata": {},
   "source": [
    "Perhaps something is happening with a handful of books that are in high demand but no obvious trend."
   ]
  },
  {
   "cell_type": "markdown",
   "id": "9a2a0c26",
   "metadata": {},
   "source": [
    "# Prediction\n",
    "Book popularity likely obeys the power law (aka 80/20 rule). A handful of popular books get the majority of the demand. This may make it difficult to predict demand because it may not be possible to harvest enough data on the most popular titles on Overdrive simply because there aren't enough to do statistically meaningful calculations."
   ]
  },
  {
   "cell_type": "code",
   "execution_count": 158,
   "id": "0a9873d9",
   "metadata": {
    "scrolled": true
   },
   "outputs": [
    {
     "data": {
      "image/png": "[encoded data removed]",
      "text/plain": [
       "<Figure size 432x288 with 1 Axes>"
      ]
     },
     "metadata": {
      "needs_background": "light"
     },
     "output_type": "display_data"
    }
   ],
   "source": [
    "ax = sns.regplot(x=\"year_published\", y=\"demand\", data=df[df.year_published > 1985])"
   ]
  },
  {
   "cell_type": "markdown",
   "id": "90984d1c",
   "metadata": {},
   "source": [
    "Year published seems to be the simplest predictor of demand. More recent books are more in demand."
   ]
  },
  {
   "cell_type": "markdown",
   "id": "ad1d25a1",
   "metadata": {},
   "source": [
    "Some linear regressions below. They don't appear to show anything meaningful."
   ]
  },
  {
   "cell_type": "code",
   "execution_count": 163,
   "id": "523d25d3",
   "metadata": {},
   "outputs": [
    {
     "name": "stdout",
     "output_type": "stream",
     "text": [
      "                            OLS Regression Results                            \n",
      "==============================================================================\n",
      "Dep. Variable:                 demand   R-squared:                       0.008\n",
      "Model:                            OLS   Adj. R-squared:                  0.007\n",
      "Method:                 Least Squares   F-statistic:                     10.10\n",
      "Date:                Sat, 15 Jan 2022   Prob (F-statistic):            0.00152\n",
      "Time:                        16:26:16   Log-Likelihood:                -7010.9\n",
      "No. Observations:                1310   AIC:                         1.403e+04\n",
      "Df Residuals:                    1308   BIC:                         1.404e+04\n",
      "Df Model:                           1                                         \n",
      "Covariance Type:            nonrobust                                         \n",
      "==================================================================================\n",
      "                     coef    std err          t      P>|t|      [0.025      0.975]\n",
      "----------------------------------------------------------------------------------\n",
      "const          -1067.8532    339.502     -3.145      0.002   -1733.881    -401.825\n",
      "year_published     0.5377      0.169      3.178      0.002       0.206       0.870\n",
      "==============================================================================\n",
      "Omnibus:                     2495.549   Durbin-Watson:                   1.363\n",
      "Prob(Omnibus):                  0.000   Jarque-Bera (JB):          3413226.198\n",
      "Skew:                          14.029   Prob(JB):                         0.00\n",
      "Kurtosis:                     251.486   Cond. No.                     4.83e+05\n",
      "==============================================================================\n",
      "\n",
      "Notes:\n",
      "[1] Standard Errors assume that the covariance matrix of the errors is correctly specified.\n",
      "[2] The condition number is large, 4.83e+05. This might indicate that there are\n",
      "strong multicollinearity or other numerical problems.\n"
     ]
    }
   ],
   "source": [
    "#define response variable\n",
    "x = df.year_published[df.year_published > 1985]\n",
    "\n",
    "#define explanatory variable\n",
    "y = df['demand'][df.year_published > 1985]\n",
    "\n",
    "#add constant to predictor variables\n",
    "x = sm.add_constant(x)\n",
    "\n",
    "#fit linear regression model\n",
    "model = sm.OLS(y, x, missing='drop').fit()\n",
    "\n",
    "#view model summary\n",
    "print(model.summary())"
   ]
  },
  {
   "cell_type": "code",
   "execution_count": 164,
   "id": "4ea3f217",
   "metadata": {},
   "outputs": [
    {
     "data": {
      "image/png": "[encoded data removed]",
      "text/plain": [
       "<Figure size 432x288 with 1 Axes>"
      ]
     },
     "metadata": {
      "needs_background": "light"
     },
     "output_type": "display_data"
    }
   ],
   "source": [
    "ax = sns.regplot(x=\"author_num_reviews_norm\", y=\"demand\", data=df)"
   ]
  },
  {
   "cell_type": "code",
   "execution_count": 165,
   "id": "2be0ab41",
   "metadata": {},
   "outputs": [
    {
     "name": "stdout",
     "output_type": "stream",
     "text": [
      "                            OLS Regression Results                            \n",
      "==============================================================================\n",
      "Dep. Variable:                 demand   R-squared:                       0.037\n",
      "Model:                            OLS   Adj. R-squared:                  0.036\n",
      "Method:                 Least Squares   F-statistic:                     68.65\n",
      "Date:                Sat, 15 Jan 2022   Prob (F-statistic):           2.27e-16\n",
      "Time:                        16:27:33   Log-Likelihood:                -9555.3\n",
      "No. Observations:                1798   AIC:                         1.911e+04\n",
      "Df Residuals:                    1796   BIC:                         1.913e+04\n",
      "Df Model:                           1                                         \n",
      "Covariance Type:            nonrobust                                         \n",
      "===========================================================================================\n",
      "                              coef    std err          t      P>|t|      [0.025      0.975]\n",
      "-------------------------------------------------------------------------------------------\n",
      "const                       6.4429      1.254      5.137      0.000       3.983       8.903\n",
      "author_num_reviews_norm     0.0006   6.82e-05      8.285      0.000       0.000       0.001\n",
      "==============================================================================\n",
      "Omnibus:                     3460.656   Durbin-Watson:                   1.327\n",
      "Prob(Omnibus):                  0.000   Jarque-Bera (JB):          5265363.466\n",
      "Skew:                          14.602   Prob(JB):                         0.00\n",
      "Kurtosis:                     266.496   Cond. No.                     1.99e+04\n",
      "==============================================================================\n",
      "\n",
      "Notes:\n",
      "[1] Standard Errors assume that the covariance matrix of the errors is correctly specified.\n",
      "[2] The condition number is large, 1.99e+04. This might indicate that there are\n",
      "strong multicollinearity or other numerical problems.\n"
     ]
    }
   ],
   "source": [
    "#define response variable\n",
    "x = df['author_num_reviews_norm']\n",
    "\n",
    "#define explanatory variable\n",
    "y = df['demand']\n",
    "\n",
    "#add constant to predictor variables\n",
    "x = sm.add_constant(x)\n",
    "\n",
    "#fit linear regression model\n",
    "model = sm.OLS(y, x, missing='drop').fit()\n",
    "\n",
    "#view model summary\n",
    "print(model.summary())"
   ]
  },
  {
   "cell_type": "code",
   "execution_count": 174,
   "id": "20ed9f87",
   "metadata": {},
   "outputs": [
    {
     "name": "stdout",
     "output_type": "stream",
     "text": [
      "<class 'pandas.core.frame.DataFrame'>\n",
      "Int64Index: 1827 entries, 0 to 5267\n",
      "Data columns (total 36 columns):\n",
      " #   Column                      Non-Null Count  Dtype  \n",
      "---  ------                      --------------  -----  \n",
      " 0   id_number                   1827 non-null   float64\n",
      " 1   title                       1827 non-null   object \n",
      " 2   author                      1827 non-null   object \n",
      " 3   author_url                  1827 non-null   object \n",
      " 4   stars                       1827 non-null   float64\n",
      " 5   number of ratings           1827 non-null   float64\n",
      " 6   url                         1827 non-null   object \n",
      " 7   is_series                   1827 non-null   object \n",
      " 8   year_published              1798 non-null   float64\n",
      " 9   price                       1827 non-null   object \n",
      " 10  number of pages             1827 non-null   int64  \n",
      " 11  is_movie                    1827 non-null   object \n",
      " 12  movie title                 1827 non-null   object \n",
      " 13  movie year                  1827 non-null   object \n",
      " 14  overdrive_url               1827 non-null   object \n",
      " 15  media                       1827 non-null   object \n",
      " 16  Overdrive title             1827 non-null   object \n",
      " 17  Wait time                   1827 non-null   object \n",
      " 18  Library copies              1827 non-null   int64  \n",
      " 19  People waiting in total     1827 non-null   int64  \n",
      " 20  People waiting per copy     1827 non-null   int64  \n",
      " 21  Genres                      1827 non-null   object \n",
      " 22  overdrive_author            1827 non-null   object \n",
      " 23  author_stars                1827 non-null   float64\n",
      " 24  author_ratings              1827 non-null   float64\n",
      " 25  author_num_reviews          1827 non-null   float64\n",
      " 26  author_distinct_works       1827 non-null   float64\n",
      " 27  LevScore                    1827 non-null   float64\n",
      " 28  LevScore_updated            1827 non-null   float64\n",
      " 29  demand                      1827 non-null   int64  \n",
      " 30  author_ratings_norm         1798 non-null   float64\n",
      " 31  number of ratings_norm      1798 non-null   float64\n",
      " 32  author_num_reviews_norm     1798 non-null   float64\n",
      " 33  author_distinct_works_norm  1798 non-null   float64\n",
      " 34  stars*num_ratings           1827 non-null   float64\n",
      " 35  stars*num_ratings_norm      1798 non-null   float64\n",
      "dtypes: float64(16), int64(5), object(15)\n",
      "memory usage: 592.7+ KB\n"
     ]
    }
   ],
   "source": [
    "df.info()"
   ]
  },
  {
   "cell_type": "code",
   "execution_count": null,
   "id": "83c2014d",
   "metadata": {},
   "outputs": [],
   "source": []
  }
 ],
 "metadata": {
  "kernelspec": {
   "display_name": "Python [conda env:metis] *",
   "language": "python",
   "name": "conda-env-metis-py"
  },
  "language_info": {
   "codemirror_mode": {
    "name": "ipython",
    "version": 3
   },
   "file_extension": ".py",
   "mimetype": "text/x-python",
   "name": "python",
   "nbconvert_exporter": "python",
   "pygments_lexer": "ipython3",
   "version": "3.9.7"
  }
 },
 "nbformat": 4,
 "nbformat_minor": 5
}
